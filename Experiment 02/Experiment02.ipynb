{
 "cells": [
  {
   "attachments": {},
   "cell_type": "markdown",
   "metadata": {},
   "source": [
    "# Experiment 2"
   ]
  },
  {
   "attachments": {},
   "cell_type": "markdown",
   "metadata": {},
   "source": [
    "1. Write a function to display Fibonacci Numbers using Recursion. Invoke the function to display the first 20 numbers from the sequence."
   ]
  },
  {
   "cell_type": "code",
   "execution_count": 6,
   "metadata": {},
   "outputs": [
    {
     "name": "stdout",
     "output_type": "stream",
     "text": [
      "0 1 1 2 3 5 8 13 21 34 "
     ]
    }
   ],
   "source": [
    "#non-recursive\n",
    "def fibonacci(x):#takes number of elements as input\n",
    "    a, b = 0, 1\n",
    "    print(a, b, end=\" \")\n",
    "    for i in range(x-2):\n",
    "        a, b = b, a+b\n",
    "        print(b, end =\" \")\n",
    "fibonacci(10)"
   ]
  },
  {
   "cell_type": "code",
   "execution_count": 7,
   "metadata": {},
   "outputs": [
    {
     "name": "stdout",
     "output_type": "stream",
     "text": [
      "2\n",
      "0 1 1 2 3 5 8 13 21 34 "
     ]
    }
   ],
   "source": [
    "#recursive\n",
    "def fibonaccii(x):#prints 'x+1'th element of the series\n",
    "    if x == 0:\n",
    "        return 0\n",
    "    elif x == 1:\n",
    "        return 1\n",
    "    else:\n",
    "        return fibonaccii(x-1)+fibonaccii(x-2)\n",
    "def fibonacciSeries(z):#prints the series via calling above function\n",
    "    for i in range(z):\n",
    "        print(fibonaccii(i), end=\" \")\n",
    "print(fibonaccii(3))\n",
    "fibonacciSeries(10)"
   ]
  },
  {
   "attachments": {},
   "cell_type": "markdown",
   "metadata": {},
   "source": [
    "2. Write a function to display Fibonacci Numbers using Recursion. Invoke the function to display the first 20 numbers from the sequence."
   ]
  },
  {
   "cell_type": "code",
   "execution_count": 14,
   "metadata": {},
   "outputs": [
    {
     "data": {
      "text/plain": [
       "32"
      ]
     },
     "execution_count": 14,
     "metadata": {},
     "output_type": "execute_result"
    }
   ],
   "source": [
    "def returnAscii(x):#will return only ascii of first character\n",
    "    x = str(x)[0]\n",
    "    return ord(x)\n",
    "returnAscii(' ')"
   ]
  },
  {
   "attachments": {},
   "cell_type": "markdown",
   "metadata": {},
   "source": [
    "3. Write a menu driven program to implement a Simple Calculator."
   ]
  },
  {
   "cell_type": "code",
   "execution_count": 18,
   "metadata": {},
   "outputs": [],
   "source": [
    "def calculator():\n",
    "    choice = 1\n",
    "    memory=0\n",
    "    while choice != 0:\n",
    "        choice = int(input('''Enter your choice:\\n\n",
    "              0.exit 1.add 2.subtract 3.multiply 4.divide 5.exponents 6.square root\n",
    "              '''))\n",
    "        if choice == 0:\n",
    "            return\n",
    "        elif choice == 1:\n",
    "            memory=float(input(\"Enter 1st number\\t\"))+float(input(\"Enter 2nd number\\t\"))\n",
    "            print(memory)\n",
    "        elif choice == 2:\n",
    "            memory=float(input(\"Enter 1st number\\t\"))-float(input(\"Enter 2nd number\\t\"))\n",
    "            print(memory)\n",
    "        elif choice == 3:\n",
    "            memory=float(input(\"Enter 1st number\\t\"))*float(input(\"Enter 2nd number\\t\"))\n",
    "            print(memory)\n",
    "        elif choice == 4:\n",
    "            try:\n",
    "                memory=float(input(\"Enter 1st number\\t\"))/float(input(\"Enter 2nd number\\t\"))\n",
    "            except:\n",
    "                print(\"don't divide by zero\")\n",
    "            finally:\n",
    "                print(memory)\n",
    "        elif choice == 5:\n",
    "            memory=float(input(\"Enter base\\t\"))*float(input(\"Enter power\\t\"))\n",
    "            print(memory)\n",
    "        elif choice == 6:\n",
    "            memory = (float(input(\"Enter the number\\t\")))**0.5\n",
    "            print(memory)"
   ]
  },
  {
   "cell_type": "code",
   "execution_count": 19,
   "metadata": {},
   "outputs": [
    {
     "name": "stdout",
     "output_type": "stream",
     "text": [
      "3.0\n",
      "7.516648189186454\n",
      "11.0\n",
      "36.4828726939094\n",
      "120.17071190602142\n",
      "1331.0\n",
      "14641.0\n"
     ]
    }
   ],
   "source": [
    "calculator()"
   ]
  },
  {
   "attachments": {},
   "cell_type": "markdown",
   "metadata": {},
   "source": [
    "4. Write a Python function to check whether a number is perfect or not. "
   ]
  },
  {
   "cell_type": "code",
   "execution_count": 20,
   "metadata": {},
   "outputs": [
    {
     "data": {
      "text/plain": [
       "True"
      ]
     },
     "execution_count": 20,
     "metadata": {},
     "output_type": "execute_result"
    }
   ],
   "source": [
    "def perfectNumber(x):\n",
    "    sum=0\n",
    "    for i in range(1,x):\n",
    "        if x%i==0:\n",
    "            sum+=i\n",
    "    return x==sum\n",
    "perfectNumber(6) "
   ]
  },
  {
   "cell_type": "code",
   "execution_count": 22,
   "metadata": {},
   "outputs": [
    {
     "name": "stdout",
     "output_type": "stream",
     "text": [
      "0  is a perfect number\n",
      "6  is a perfect number\n",
      "28  is a perfect number\n",
      "496  is a perfect number\n",
      "8128  is a perfect number\n"
     ]
    }
   ],
   "source": [
    "for i in range(10001):\n",
    "    if perfectNumber(i):\n",
    "        print(i,\" is a perfect number\")"
   ]
  },
  {
   "cell_type": "code",
   "execution_count": null,
   "metadata": {},
   "outputs": [],
   "source": []
  }
 ],
 "metadata": {
  "kernelspec": {
   "display_name": "base",
   "language": "python",
   "name": "python3"
  },
  "language_info": {
   "codemirror_mode": {
    "name": "ipython",
    "version": 3
   },
   "file_extension": ".py",
   "mimetype": "text/x-python",
   "name": "python",
   "nbconvert_exporter": "python",
   "pygments_lexer": "ipython3",
   "version": "3.9.13"
  },
  "orig_nbformat": 4,
  "vscode": {
   "interpreter": {
    "hash": "dc07d24e2f18896857f0b2a651fe84ba40ce7b297e58d8804a308c8039f752a6"
   }
  }
 },
 "nbformat": 4,
 "nbformat_minor": 2
}
